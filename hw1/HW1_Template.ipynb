{
 "cells": [
  {
   "cell_type": "code",
   "execution_count": null,
   "metadata": {},
   "outputs": [],
   "source": [
    "import numpy as np\n",
    "import pandas as pd\n",
    "import matplotlib.pyplot as plt\n",
    "import matplotlib\n",
    "import math\n",
    "import random\n",
    "from sklearn.model_selection import KFold\n",
    "df1 = pd.read_csv(\"train1.csv\") \n",
    "df2 = pd.read_csv(\"train2.csv\") \n",
    "df2m = pd.read_csv(\"train2_modified.csv\") #will be used in Part D"
   ]
  },
  {
   "cell_type": "code",
   "execution_count": null,
   "metadata": {},
   "outputs": [],
   "source": [
    "#By printing a dataframe, you can view the data in csv format\n",
    "print(df1)"
   ]
  },
  {
   "cell_type": "code",
   "execution_count": null,
   "metadata": {},
   "outputs": [],
   "source": [
    "#You can extract keys from dataframe, which you can use to extract features or labels.\n",
    "print(df1.keys())\n",
    "df1_x1 = df1['x1']\n",
    "df1_x2 = df1['x2']\n",
    "#To extract data as numpy array:\n",
    "df1_numpy = df1.values\n",
    "#You can also extract a specific feature as numpy array as well.\n",
    "df1_x1_numpy = df1['x1'].values"
   ]
  },
  {
   "cell_type": "markdown",
   "metadata": {},
   "source": [
    "# Add your comments as markdown cells(This is a markdown cell).\n",
    "\n",
    "## To add a markdown cell, simply click on a cell, then click on the 'Cell' tab above, change 'Cell Type' to 'Markdown'\n",
    "\n",
    "Then add your comment! To view the format of this markdown cell, double click on here.\n",
    "\n",
    "### Note: We provide you with example codes for starter, but feel free to delete anything we provide and write your own code, as long as you use allowed libraries and modules. "
   ]
  },
  {
   "cell_type": "markdown",
   "metadata": {},
   "source": [
    "## Part A: Examine training sets"
   ]
  },
  {
   "cell_type": "code",
   "execution_count": null,
   "metadata": {},
   "outputs": [],
   "source": [
    "#PART A: Examine training sets here. plots etc.\n",
    "#Hint: df1_class0 = df1[df1['column_name']==0] creates a new dataframe and includes samples (rows) whose class values are 0\n",
    "#hint: for data distribution plots use plt.scatter(x-axis,y-axis,other params. check online)\n",
    "#Hint: for each new plot use plt.figure() so they won't overlap, one on top of another\n",
    "#-------\n",
    "#to plot cov. matrices you may use following code: (compute 'cov_mtrx' by yourself)\n",
    "alpha = ['x1', 'x2']\n",
    "fig = plt.figure()\n",
    "ax = fig.add_subplot(111)\n",
    "cax = ax.matshow(cov_mtrx,interpolation='nearest') #cov. matrix of dataset1\n",
    "fig.colorbar(cax)\n",
    "ax.set_xticklabels(['']+alpha)\n",
    "ax.set_yticklabels(['']+alpha)\n",
    "#---------\n",
    "#for the histogram plots use plt.hist() (Remember: 4 of them we want)\n",
    "#for title use: plt.gca().set(title='Data distribution of feature x of trainingSet y', ylabel='Frequency')"
   ]
  },
  {
   "cell_type": "markdown",
   "metadata": {},
   "source": []
  },
  {
   "cell_type": "code",
   "execution_count": null,
   "metadata": {},
   "outputs": [],
   "source": [
    "#Implement PART B:\n",
    "test1 = df.read_csv(\"test1.csv\")\n",
    "test2 = df.read_csv(\"test2.csv\")"
   ]
  },
  {
   "cell_type": "markdown",
   "metadata": {},
   "source": []
  },
  {
   "cell_type": "code",
   "execution_count": null,
   "metadata": {},
   "outputs": [],
   "source": [
    "#Implement PART C:"
   ]
  },
  {
   "cell_type": "markdown",
   "metadata": {},
   "source": []
  },
  {
   "cell_type": "code",
   "execution_count": null,
   "metadata": {},
   "outputs": [],
   "source": [
    "#Implement Part D:"
   ]
  }
 ],
 "metadata": {
  "kernelspec": {
   "display_name": "Python 3",
   "language": "python",
   "name": "python3"
  },
  "language_info": {
   "codemirror_mode": {
    "name": "ipython",
    "version": 3
   },
   "file_extension": ".py",
   "mimetype": "text/x-python",
   "name": "python",
   "nbconvert_exporter": "python",
   "pygments_lexer": "ipython3",
   "version": "3.7.6"
  }
 },
 "nbformat": 4,
 "nbformat_minor": 4
}
