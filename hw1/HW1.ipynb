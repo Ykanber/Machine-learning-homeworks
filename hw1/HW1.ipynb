{
 "cells": [
  {
   "cell_type": "code",
   "execution_count": 1,
   "metadata": {},
   "outputs": [],
   "source": [
    "#150170034 Yavuz Kanber\n",
    "import numpy as np\n",
    "import pandas as pd\n",
    "import matplotlib.pyplot as plt\n",
    "import matplotlib\n",
    "import math\n",
    "import random\n",
    "from sklearn.model_selection import KFold"
   ]
  },
  {
   "cell_type": "markdown",
   "metadata": {},
   "source": [
    "## Part A: Examine training sets"
   ]
  },
  {
   "cell_type": "code",
   "execution_count": 2,
   "metadata": {},
   "outputs": [],
   "source": [
    "df1 = pd.read_csv(\"train1.csv\") \n",
    "df2 = pd.read_csv(\"train2.csv\") \n",
    "df1_class0 = df1[df1['y']==0]\n",
    "df1_class0 = df1_class0[['x1','x2']]\n",
    "df1_class1 = df1[df1['y']==1]\n",
    "df1_class1 = df1_class1[['x1','x2']]\n",
    "df2_class0 = df2[df2['y']==0]\n",
    "df2_class0 = df2_class0[['x1','x2']]\n",
    "df2_class1 = df2[df2['y']==1]\n",
    "df2_class1 = df2_class1[['x1','x2']]"
   ]
  },
  {
   "cell_type": "code",
   "execution_count": 3,
   "metadata": {
    "scrolled": false
   },
   "outputs": [
    {
     "name": "stderr",
     "output_type": "stream",
     "text": [
      "<ipython-input-3-a017c140b310>:31: UserWarning: FixedFormatter should only be used together with FixedLocator\n",
      "  ax.set_xticklabels(['']+alpha)\n",
      "<ipython-input-3-a017c140b310>:32: UserWarning: FixedFormatter should only be used together with FixedLocator\n",
      "  ax.set_yticklabels(['']+alpha)\n"
     ]
    },
    {
     "data": {
      "text/plain": [
       "[Text(0, -1.0, ''), Text(0, 0.0, 'x1'), Text(0, 1.0, 'x2'), Text(0, 2.0, '')]"
      ]
     },
     "execution_count": 3,
     "metadata": {},
     "output_type": "execute_result"
    },
    {
     "data": {
      "image/png": "[encoded data removed]",
      "text/plain": [
       "<Figure size 432x288 with 2 Axes>"
      ]
     },
     "metadata": {
      "needs_background": "light"
     },
     "output_type": "display_data"
    }
   ],
   "source": [
    "def covariance_matrix_calculator(df1_class):\n",
    "    x1db = df1_class['x1']\n",
    "    x2db = df1_class['x2']\n",
    "    var1 = np.var(x1db)\n",
    "    var2 = np.var(x2db)\n",
    "    mean1 = np.mean(x1db)\n",
    "    mean2 = np.mean(x2db)\n",
    "    sum = 0\n",
    "    for i, row in df1_class.iterrows():\n",
    "        sum += (row['x1'] - mean1) * (row['x2'] - mean2)\n",
    "        \n",
    "    sum = sum / len(df1_class)        \n",
    "    return np.matrix([[var1 , sum],[sum,var2]])\n",
    "\n",
    "            \n",
    "cov_mtrx1_db0_class0 = covariance_matrix_calculator(df1_class0)\n",
    "cov_mtrx2_db0_class1 = covariance_matrix_calculator(df1_class1)\n",
    "cov_mtrx3_db1_class0 = covariance_matrix_calculator(df2_class0)\n",
    "cov_mtrx4_db1_class1 = covariance_matrix_calculator(df2_class1)\n",
    "\n",
    "cov_mtrx1_db0_class0 = cov_mtrx1_db0_class0.round(8)\n",
    "cov_mtrx2_db0_class1 = cov_mtrx2_db0_class1.round(8)\n",
    "cov_mtrx3_db1_class0 = cov_mtrx3_db1_class0.round(8)\n",
    "cov_mtrx4_db1_class1 = cov_mtrx4_db1_class1.round(8)\n",
    "\n",
    "alpha = ['x1', 'x2']\n",
    "fig = plt.figure()\n",
    "ax = fig.add_subplot(111)\n",
    "cax = ax.matshow(cov_mtrx1_db0_class0,interpolation='nearest') #cov. matrix of dataset0 class 0\n",
    "fig.colorbar(cax)\n",
    "ax.set_xticklabels(['']+alpha)\n",
    "ax.set_yticklabels(['']+alpha)"
   ]
  },
  {
   "cell_type": "code",
   "execution_count": 4,
   "metadata": {},
   "outputs": [
    {
     "name": "stderr",
     "output_type": "stream",
     "text": [
      "<ipython-input-4-9341a0143073>:7: UserWarning: FixedFormatter should only be used together with FixedLocator\n",
      "  ax.set_xticklabels(['']+alpha)\n",
      "<ipython-input-4-9341a0143073>:8: UserWarning: FixedFormatter should only be used together with FixedLocator\n",
      "  ax.set_yticklabels(['']+alpha)\n"
     ]
    },
    {
     "data": {
      "text/plain": [
       "[Text(0, -1.0, ''), Text(0, 0.0, 'x1'), Text(0, 1.0, 'x2'), Text(0, 2.0, '')]"
      ]
     },
     "execution_count": 4,
     "metadata": {},
     "output_type": "execute_result"
    },
    {
     "data": {
      "image/png": "[encoded data removed]",
      "text/plain": [
       "<Figure size 432x288 with 2 Axes>"
      ]
     },
     "metadata": {
      "needs_background": "light"
     },
     "output_type": "display_data"
    }
   ],
   "source": [
    "\n",
    "#---------\n",
    "alpha = ['x1', 'x2']\n",
    "fig = plt.figure()\n",
    "ax = fig.add_subplot(111)\n",
    "cax = ax.matshow(cov_mtrx2_db0_class1,interpolation='nearest') #cov. matrix of dataset0 class 1\n",
    "fig.colorbar(cax)\n",
    "ax.set_xticklabels(['']+alpha)\n",
    "ax.set_yticklabels(['']+alpha)\n",
    "#---------"
   ]
  },
  {
   "cell_type": "code",
   "execution_count": 5,
   "metadata": {},
   "outputs": [
    {
     "name": "stderr",
     "output_type": "stream",
     "text": [
      "<ipython-input-5-07fe487764e0>:6: UserWarning: FixedFormatter should only be used together with FixedLocator\n",
      "  ax.set_xticklabels(['']+alpha)\n",
      "<ipython-input-5-07fe487764e0>:7: UserWarning: FixedFormatter should only be used together with FixedLocator\n",
      "  ax.set_yticklabels(['']+alpha)\n"
     ]
    },
    {
     "data": {
      "text/plain": [
       "[Text(0, -1.0, ''), Text(0, 0.0, 'x1'), Text(0, 1.0, 'x2'), Text(0, 2.0, '')]"
      ]
     },
     "execution_count": 5,
     "metadata": {},
     "output_type": "execute_result"
    },
    {
     "data": {
      "image/png": "[encoded data removed]",
      "text/plain": [
       "<Figure size 432x288 with 2 Axes>"
      ]
     },
     "metadata": {
      "needs_background": "light"
     },
     "output_type": "display_data"
    }
   ],
   "source": [
    "alpha = ['x1', 'x2']\n",
    "fig = plt.figure()\n",
    "ax = fig.add_subplot(111)\n",
    "cax = ax.matshow(cov_mtrx3_db1_class0,interpolation='nearest') #cov. matrix of dataset1 class 0\n",
    "fig.colorbar(cax)\n",
    "ax.set_xticklabels(['']+alpha)\n",
    "ax.set_yticklabels(['']+alpha)"
   ]
  },
  {
   "cell_type": "code",
   "execution_count": 6,
   "metadata": {
    "scrolled": false
   },
   "outputs": [
    {
     "name": "stderr",
     "output_type": "stream",
     "text": [
      "<ipython-input-6-509d8c49cce7>:6: UserWarning: FixedFormatter should only be used together with FixedLocator\n",
      "  ax.set_xticklabels(['']+alpha)\n",
      "<ipython-input-6-509d8c49cce7>:7: UserWarning: FixedFormatter should only be used together with FixedLocator\n",
      "  ax.set_yticklabels(['']+alpha)\n"
     ]
    },
    {
     "data": {
      "text/plain": [
       "[Text(0, -1.0, ''), Text(0, 0.0, 'x1'), Text(0, 1.0, 'x2'), Text(0, 2.0, '')]"
      ]
     },
     "execution_count": 6,
     "metadata": {},
     "output_type": "execute_result"
    },
    {
     "data": {
      "image/png": "[encoded data removed]",
      "text/plain": [
       "<Figure size 432x288 with 2 Axes>"
      ]
     },
     "metadata": {
      "needs_background": "light"
     },
     "output_type": "display_data"
    }
   ],
   "source": [
    "alpha = ['x1', 'x2']\n",
    "fig = plt.figure()\n",
    "ax = fig.add_subplot(111)\n",
    "cax = ax.matshow(cov_mtrx4_db1_class1,interpolation='nearest') #cov. matrix of dataset1 class 1\n",
    "fig.colorbar(cax)\n",
    "ax.set_xticklabels(['']+alpha)\n",
    "ax.set_yticklabels(['']+alpha)"
   ]
  },
  {
   "cell_type": "markdown",
   "metadata": {},
   "source": [
    "# All 4 variable tuples are dependent. Last tuple is highly dependent. All tuples have positive covariance"
   ]
  },
  {
   "cell_type": "code",
   "execution_count": 7,
   "metadata": {
    "scrolled": true
   },
   "outputs": [
    {
     "data": {
      "text/plain": [
       "<matplotlib.legend.Legend at 0x2466400ff40>"
      ]
     },
     "execution_count": 7,
     "metadata": {},
     "output_type": "execute_result"
    },
    {
     "data": {
      "image/png": "[encoded data removed]",
      "text/plain": [
       "<Figure size 432x288 with 1 Axes>"
      ]
     },
     "metadata": {
      "needs_background": "light"
     },
     "output_type": "display_data"
    }
   ],
   "source": [
    "db0_ftrx1_c0 = df1_class0['x1']\n",
    "db0_ftrx1_c1 = df1_class1['x1']\n",
    "plt.gca().set(title='Data distribution of feature x1 of trainingSet db0', ylabel='Frequency')\n",
    "bins = np.arange(2.5,4,0.05)\n",
    "plt.hist(db0_ftrx1_c0, bins = bins , color = 'red', alpha = 0.5, label= 'c0')\n",
    "plt.hist(db0_ftrx1_c1, bins = bins , color = 'blue' , alpha = 0.5, label ='c1')\n",
    "plt.legend(loc=\"upper right\")"
   ]
  },
  {
   "cell_type": "code",
   "execution_count": 8,
   "metadata": {},
   "outputs": [
    {
     "data": {
      "text/plain": [
       "<matplotlib.legend.Legend at 0x24664138b50>"
      ]
     },
     "execution_count": 8,
     "metadata": {},
     "output_type": "execute_result"
    },
    {
     "data": {
      "image/png": "[encoded data removed]",
      "text/plain": [
       "<Figure size 432x288 with 1 Axes>"
      ]
     },
     "metadata": {
      "needs_background": "light"
     },
     "output_type": "display_data"
    }
   ],
   "source": [
    "db0_ftrx2_c0 = df1_class0['x2']\n",
    "db0_ftrx2_c1 = df1_class1['x2']\n",
    "plt.gca().set(title='Data distribution of feature x2 of trainingSet db0', ylabel='Frequency')\n",
    "bins = np.arange(3.0,7.5,0.15)\n",
    "plt.hist(db0_ftrx2_c0, bins = bins , color = 'red', alpha = 0.5, label= 'c0')\n",
    "plt.hist(db0_ftrx2_c1, bins = bins , color = 'blue' , alpha = 0.5, label ='c1')\n",
    "plt.legend(loc=\"upper right\")"
   ]
  },
  {
   "cell_type": "code",
   "execution_count": 9,
   "metadata": {},
   "outputs": [
    {
     "data": {
      "text/plain": [
       "<matplotlib.legend.Legend at 0x24663f1ba00>"
      ]
     },
     "execution_count": 9,
     "metadata": {},
     "output_type": "execute_result"
    },
    {
     "data": {
      "image/png": "[encoded data removed]",
      "text/plain": [
       "<Figure size 432x288 with 1 Axes>"
      ]
     },
     "metadata": {
      "needs_background": "light"
     },
     "output_type": "display_data"
    }
   ],
   "source": [
    "db1_ftrx1_c0 = df2_class0['x1']\n",
    "db1_ftrx1_c1 = df2_class1['x1']\n",
    "plt.gca().set(title='Data distribution of feature x1 of trainingSet db2', ylabel='Frequency')\n",
    "bins = np.arange(1,7.5,0.15)\n",
    "plt.hist(db1_ftrx1_c0, bins = bins , color = 'red', alpha = 0.5, label= 'c0')\n",
    "plt.hist(db1_ftrx1_c1, bins = bins , color = 'blue' , alpha = 0.5, label ='c1')\n",
    "plt.legend(loc=\"upper right\")"
   ]
  },
  {
   "cell_type": "code",
   "execution_count": 10,
   "metadata": {
    "scrolled": false
   },
   "outputs": [
    {
     "data": {
      "text/plain": [
       "<matplotlib.legend.Legend at 0x24664346dc0>"
      ]
     },
     "execution_count": 10,
     "metadata": {},
     "output_type": "execute_result"
    },
    {
     "data": {
      "image/png": "[encoded data removed]",
      "text/plain": [
       "<Figure size 432x288 with 1 Axes>"
      ]
     },
     "metadata": {
      "needs_background": "light"
     },
     "output_type": "display_data"
    }
   ],
   "source": [
    "db1_ftrx2_c0 = df2_class0['x2']\n",
    "db1_ftrx2_c1 = df2_class1['x2']\n",
    "plt.gca().set(title='Data distribution of feature x2 of trainingSet db2', ylabel='Frequency')\n",
    "bins = np.arange(3.0,7.5,0.15)\n",
    "plt.hist(db1_ftrx2_c0, bins = bins , color = 'red', alpha = 0.5, label= 'c0')\n",
    "plt.hist(db1_ftrx2_c1, bins = bins , color = 'blue' , alpha = 0.5, label ='c1')\n",
    "plt.legend(loc=\"upper right\")"
   ]
  },
  {
   "cell_type": "markdown",
   "metadata": {},
   "source": [
    "# Database2 classes are more distinguishable than database1. Classifying will be more reliable."
   ]
  },
  {
   "cell_type": "code",
   "execution_count": 11,
   "metadata": {},
   "outputs": [
    {
     "data": {
      "text/plain": [
       "<matplotlib.legend.Legend at 0x2466445cdf0>"
      ]
     },
     "execution_count": 11,
     "metadata": {},
     "output_type": "execute_result"
    },
    {
     "data": {
      "image/png": "[encoded data removed]",
      "text/plain": [
       "<Figure size 432x288 with 1 Axes>"
      ]
     },
     "metadata": {
      "needs_background": "light"
     },
     "output_type": "display_data"
    }
   ],
   "source": [
    "plt.scatter(db0_ftrx1_c0,db0_ftrx2_c0,c ='blue', s = 10 , label = 'class-0')\n",
    "plt.scatter(db0_ftrx1_c1,db0_ftrx2_c1,c ='red', s = 10 , label = 'class-1')\n",
    "plt.legend(loc = \"upper left\")"
   ]
  },
  {
   "cell_type": "code",
   "execution_count": 12,
   "metadata": {},
   "outputs": [
    {
     "data": {
      "text/plain": [
       "<matplotlib.legend.Legend at 0x246644be4f0>"
      ]
     },
     "execution_count": 12,
     "metadata": {},
     "output_type": "execute_result"
    },
    {
     "data": {
      "image/png": "[encoded data removed]",
      "text/plain": [
       "<Figure size 432x288 with 1 Axes>"
      ]
     },
     "metadata": {
      "needs_background": "light"
     },
     "output_type": "display_data"
    }
   ],
   "source": [
    "plt.scatter(db1_ftrx1_c0, db1_ftrx2_c0,c ='blue', s = 10 , label = 'class-0')\n",
    "plt.scatter(db1_ftrx1_c1,db1_ftrx2_c1,c ='red', s = 10 , label = 'class-1')\n",
    "plt.legend(loc = \"upper left\")"
   ]
  },
  {
   "cell_type": "markdown",
   "metadata": {},
   "source": []
  },
  {
   "cell_type": "code",
   "execution_count": 13,
   "metadata": {},
   "outputs": [
    {
     "name": "stdout",
     "output_type": "stream",
     "text": [
      "database0 class 0\n",
      "mean\n",
      "x1    4.2\n",
      "x2    5.7\n",
      "dtype: float64\n",
      "covariance\n",
      "[[0.30779503 0.20875556]\n",
      " [0.20875556 0.403941  ]]\n",
      "\n",
      "database0 class 1\n",
      "mean\n",
      "x1    4.0\n",
      "x2    4.8\n",
      "dtype: float64\n",
      "covariance\n",
      "[[0.30779503 0.20875556]\n",
      " [0.20875556 0.403941  ]]\n",
      "\n",
      "database1 class 0\n",
      "mean\n",
      "x1    4.691560\n",
      "x2    6.889336\n",
      "dtype: float64\n",
      "covariance\n",
      "[[0.29913689 0.19183728]\n",
      " [0.19183728 0.3972486 ]]\n",
      "\n",
      "database1 class 1\n",
      "mean\n",
      "x1    4.297250\n",
      "x2    4.504441\n",
      "dtype: float64\n",
      "covariance\n",
      "[[0.77441134 0.08920795]\n",
      " [0.08920795 0.52736643]]\n",
      "\n"
     ]
    }
   ],
   "source": [
    "#Implement PART B:\n",
    "print('database0 class 0')\n",
    "mean_db0_c0 = np.mean(df1_class0, axis = 0)\n",
    "print('mean')\n",
    "print(mean_db0_c0)\n",
    "print('covariance')\n",
    "print(cov_mtrx1_db0_class0, end = \"\\n\\n\")\n",
    "\n",
    "print('database0 class 1')\n",
    "mean_db0_c1 = np.mean(df1_class1, axis = 0)\n",
    "print('mean')\n",
    "print(mean_db0_c1)\n",
    "print('covariance')\n",
    "print(cov_mtrx2_db0_class1, end = \"\\n\\n\")\n",
    "\n",
    "print('database1 class 0')\n",
    "mean_db1_c0 = np.mean(df2_class0, axis = 0)\n",
    "print('mean')\n",
    "print(mean_db1_c0)\n",
    "print('covariance')\n",
    "print(cov_mtrx3_db1_class0, end = \"\\n\\n\")\n",
    "\n",
    "print('database1 class 1')\n",
    "mean_db1_c1 = np.mean(df2_class1, axis = 0)\n",
    "print('mean')\n",
    "print(mean_db1_c1)\n",
    "print('covariance')\n",
    "print(cov_mtrx4_db1_class1, end = \"\\n\\n\")"
   ]
  },
  {
   "cell_type": "code",
   "execution_count": 14,
   "metadata": {
    "scrolled": false
   },
   "outputs": [
    {
     "name": "stdout",
     "output_type": "stream",
     "text": [
      "Test Set 1 Error:  20.0 %.\n",
      "Test Set 2 Error:  3.0 %.\n"
     ]
    }
   ],
   "source": [
    "testSet1 = pd.read_csv(\"test1.csv\")\n",
    "testSet2 = pd.read_csv(\"test2.csv\")\n",
    "\n",
    "def det_calculator(matrix):\n",
    "    a = matrix[0][0]\n",
    "    b = matrix[0][1]\n",
    "    c = matrix[1][0]\n",
    "    d = matrix[1][1]\n",
    "    det = (a*d) - (b*c)\n",
    "    return det\n",
    "\n",
    "def priorprobability(class_number,database):\n",
    "    prior_prob = len(database[database['y']==class_number]) / len(database)\n",
    "    return prior_prob\n",
    "\n",
    "prior_prob_db0_c0 = priorprobability(0,df1)\n",
    "prior_prob_db0_c1 = priorprobability(1,df1)\n",
    "prior_prob_db1_c0 = priorprobability(0,df2)\n",
    "prior_prob_db1_c1 = priorprobability(1,df2)\n",
    "\n",
    "def covariance_matrix_inverter(matrix):\n",
    "    a = matrix[0][0]\n",
    "    b = matrix[0][1]\n",
    "    c = matrix[1][0]\n",
    "    d = matrix[1][1]\n",
    "    det = a*d - b*c\n",
    "    return np.matrix([[d / det, -b / det], [-c / det, a / det]])\n",
    "\n",
    "def matrix_equality_check(matrix1,matrix2):\n",
    "    if (matrix1[0][0] == matrix2[0][0] and matrix1[0][1] == matrix2[0][1] and matrix1[1][0] == matrix2[1][0] and\n",
    "        matrix1[1][1] == matrix2[1][1]):\n",
    "        return True\n",
    "    else:\n",
    "        return False\n",
    "\n",
    "    \n",
    "def trainBayes(mean0, mean1, covmat0, covmat1, prob0, prob1):\n",
    "    ln_prob0 = math.log(prob0)\n",
    "    ln_prob1 = math.log(prob1)\n",
    "    mean0 = np.matrix([[mean0['x1']], [mean0['x2']]])\n",
    "    transpose_mean0 = mean0.transpose()\n",
    "    mean1 = np.matrix([[mean1['x1']], [mean1['x2']]])\n",
    "    transpose_mean1 = mean1.transpose()\n",
    "    invers_covmat0 = covariance_matrix_inverter(covmat0)\n",
    "    invers_covmat1 = covariance_matrix_inverter(covmat1)\n",
    "    isgeneral = True\n",
    "    c0 = 0\n",
    "    c1 = 0\n",
    "    if matrix_equality_check(covmat0,covmat1):\n",
    "        a0 = np.matmul(transpose_mean0,invers_covmat0)\n",
    "        b0 = ln_prob0 + (-0.5 * np.matmul(np.matmul(transpose_mean0,invers_covmat0),mean0))[0][0]\n",
    "        \n",
    "        a1 = np.matmul(transpose_mean1,invers_covmat1)\n",
    "        b1 = ln_prob1 + (-0.5 * np.matmul(np.matmul(transpose_mean1,invers_covmat1),mean1))[0][0]\n",
    "        \n",
    "        isgeneral= False\n",
    "    else : #general case\n",
    "        \n",
    "        det_class_0 = det_calculator(covmat0)\n",
    "        det_class_1 = det_calculator(covmat1)\n",
    "        \n",
    "        a0 = np.matmul(transpose_mean0,invers_covmat0)\n",
    "        b0 = ln_prob0 + (-0.5 * np.matmul(a0,mean0)) - (0.5 * math.log(np.abs(det_class_0)))\n",
    "        c0 = -0.5 * invers_covmat0\n",
    "        \n",
    "        a1 = np.matmul(transpose_mean1,invers_covmat1)\n",
    "        b1 = ln_prob1 + (-0.5 * np.matmul(a1,mean1)) - (0.5 * math.log(np.abs(det_class_1)))\n",
    "        c1 = -0.5 * invers_covmat1       \n",
    "        \n",
    "    return a0, b0, a1, b1, isgeneral, c0 , c1\n",
    "\n",
    "def classify(x, isgeneral, a0, b0, a1, b1,c0,c1):\n",
    "    if isgeneral == False:\n",
    "        class0_prob = np.dot(a0,x) + b0\n",
    "        \n",
    "        class1_prob = np.dot(a1,x) + b1\n",
    "        \n",
    "        if(class0_prob > class1_prob):\n",
    "            return 0\n",
    "        else:\n",
    "            return 1\n",
    "    else:\n",
    "        c0 = np.matmul(x.transpose(),np.matmul(c0,x))\n",
    "        \n",
    "        c1 = np.matmul(x.transpose(),np.matmul(c1,x))\n",
    "        \n",
    "        class0_prob = c0 + np.dot(a0,x) + b0\n",
    "        \n",
    "        class1_prob = c1 + np.dot(a1,x) + b1\n",
    "        \n",
    "        if(class0_prob > class1_prob):\n",
    "            return 0\n",
    "        else:\n",
    "            return 1\n",
    "\n",
    "\n",
    "def calculateError(testSet, isgeneral, a0, b0, a1, b1, c0, c1):\n",
    "    error_count = 0\n",
    "    for i, row in testSet.iterrows():\n",
    "        test_sample = np.matrix([[row.x1], [row.x2]])\n",
    "        if classify(test_sample, isgeneral, a0, b0, a1, b1,c0,c1) != row['y']:\n",
    "            error_count += 1\n",
    "            \n",
    "    return (error_count / len(testSet)) * 100        \n",
    "        \n",
    "\n",
    "a0 , b0 , a1 , b1, isgeneral, c0 , c1= trainBayes(mean_db0_c0,mean_db0_c1,\n",
    "                                              cov_mtrx1_db0_class0,cov_mtrx2_db0_class1,\n",
    "                                              prior_prob_db0_c0,prior_prob_db0_c1)\n",
    "\n",
    "\n",
    "print(\"Test Set 1 Error: \", calculateError(testSet1, isgeneral, a0, b0, a1, b1, c0,c1), \"%.\")\n",
    "\n",
    "\n",
    "a0 , b0 , a1 , b1, isgeneral, c0 , c1= trainBayes(mean_db1_c0,mean_db1_c1,\n",
    "                                              cov_mtrx3_db1_class0,cov_mtrx4_db1_class1,\n",
    "                                              prior_prob_db1_c0,prior_prob_db1_c1)\n",
    "\n",
    "\n",
    "print(\"Test Set 2 Error: \", calculateError(testSet2, isgeneral, a0, b0,   a1, b1, c0,c1), \"%.\")\n"
   ]
  },
  {
   "cell_type": "code",
   "execution_count": 15,
   "metadata": {},
   "outputs": [
    {
     "name": "stdout",
     "output_type": "stream",
     "text": [
      "Test Set Error:  21.0 %.\n",
      "Test Set Error:  24.0 %.\n",
      "Test Set Error:  20.0 %.\n",
      "Average error of Database1 21.666666666666668\n"
     ]
    }
   ],
   "source": [
    "#Implement PART C:\n",
    "kf = KFold(n_splits=3, random_state = random.seed(1773), shuffle=True)\n",
    "\n",
    "concatenated = np.concatenate((df1, testSet1), axis=0)\n",
    "\n",
    "average = 0\n",
    "\n",
    "for train_index, test_index in kf.split(concatenated):\n",
    "    train_set = concatenated[train_index]\n",
    "    test_set = concatenated[test_index]\n",
    "    train_set = pd.DataFrame(train_set)\n",
    "    test_set = pd.DataFrame(test_set)\n",
    "    train_set.columns = ['x1','x2','y']\n",
    "    test_set.columns = ['x1','x2','y']\n",
    "    \n",
    "    crval_c0_withy = train_set[train_set['y']==0]\n",
    "    crval_c0 = crval_c0_withy[['x1','x2']]\n",
    "    \n",
    "    crval_c1_withy = train_set[train_set['y']==1]\n",
    "    crval_c1 = crval_c1_withy[['x1','x2']]\n",
    "        \n",
    "    crval_c0_covmat = covariance_matrix_calculator(crval_c0)\n",
    "    crval_c1_covmat = covariance_matrix_calculator(crval_c1)\n",
    "\n",
    "    crval_c0_covmat = crval_c0_covmat.round(8)\n",
    "    crval_c1_covmat = crval_c1_covmat.round(8)\n",
    "\n",
    "    crval_c0_mean = np.mean(crval_c0, axis = 0)\n",
    "    crval_c1_mean = np.mean(crval_c1, axis = 0)\n",
    "    \n",
    "    prior_prob_crval_c0 = priorprobability(0,train_set)\n",
    "    prior_prob_crval_c1 = priorprobability(1,train_set)\n",
    "    \n",
    "    a0 , b0 , a1 , b1, isgeneral, c0 , c1= trainBayes(crval_c0_mean,crval_c1_mean,\n",
    "                                              crval_c0_covmat,crval_c1_covmat,\n",
    "                                              prior_prob_db0_c0,prior_prob_db0_c1)\n",
    "    average += calculateError(test_set, isgeneral, a0, b0,\n",
    "                                           a1, b1, c0,c1)\n",
    "    print(\"Test Set Error: \", calculateError(test_set, isgeneral, a0, b0,\n",
    "                                           a1, b1, c0,c1), \"%.\")\n",
    "    \n",
    "average = average / 3\n",
    "print(\"Average error of Database1\", average)"
   ]
  },
  {
   "cell_type": "code",
   "execution_count": 16,
   "metadata": {},
   "outputs": [
    {
     "name": "stdout",
     "output_type": "stream",
     "text": [
      "Test Set Error:  3.4482758620689653 %.\n",
      "Test Set Error:  3.8980509745127434 %.\n",
      "Test Set Error:  2.5525525525525525 %.\n",
      "Average error of Database2 3.299626463044754\n"
     ]
    }
   ],
   "source": [
    "kf = KFold(n_splits=3, random_state = random.seed(1773), shuffle=True)\n",
    "\n",
    "concatenated = np.concatenate((df2, testSet2), axis=0)\n",
    "\n",
    "average = 0\n",
    "\n",
    "for train_index, test_index in kf.split(concatenated):\n",
    "    train_set = concatenated[train_index]\n",
    "    test_set = concatenated[test_index]\n",
    "    train_set = pd.DataFrame(train_set)\n",
    "    test_set = pd.DataFrame(test_set)\n",
    "    train_set.columns = ['x1','x2','y']\n",
    "    test_set.columns = ['x1','x2','y']\n",
    "    \n",
    "    crval_c0_withy = train_set[train_set['y']==0]\n",
    "    crval_c0 = crval_c0_withy[['x1','x2']]\n",
    "    \n",
    "    crval_c1_withy = train_set[train_set['y']==1]\n",
    "    crval_c1 = crval_c1_withy[['x1','x2']]\n",
    "        \n",
    "    crval_c0_covmat = covariance_matrix_calculator(crval_c0)\n",
    "    crval_c1_covmat = covariance_matrix_calculator(crval_c1)\n",
    "\n",
    "    crval_c0_covmat = crval_c0_covmat.round(8)\n",
    "    crval_c1_covmat = crval_c1_covmat.round(8)\n",
    "\n",
    "    crval_c0_mean = np.mean(crval_c0, axis = 0)\n",
    "    crval_c1_mean = np.mean(crval_c1, axis = 0)\n",
    "    \n",
    "    prior_prob_crval_c0 = priorprobability(0,train_set)\n",
    "    prior_prob_crval_c1 = priorprobability(1,train_set)\n",
    "    \n",
    "    a0 , b0 , a1 , b1, isgeneral, c0 , c1= trainBayes(crval_c0_mean,crval_c1_mean,\n",
    "                                              crval_c0_covmat,crval_c1_covmat,\n",
    "                                              prior_prob_db0_c0,prior_prob_db0_c1)\n",
    "    average += calculateError(test_set, isgeneral, a0, b0,\n",
    "                                           a1, b1, c0,c1)\n",
    "    print(\"Test Set Error: \", calculateError(test_set, isgeneral, a0, b0,\n",
    "                                           a1, b1, c0,c1), \"%.\")\n",
    "    \n",
    "average = average / 3\n",
    "print(\"Average error of Database2\", average)"
   ]
  },
  {
   "cell_type": "markdown",
   "metadata": {},
   "source": [
    "# The error rate is pretty much the same in both strategies. But I think cross-validation strategy will be more reliable because we are changing test sets in every evaluation"
   ]
  },
  {
   "cell_type": "code",
   "execution_count": 17,
   "metadata": {
    "scrolled": true
   },
   "outputs": [
    {
     "data": {
      "text/plain": [
       "<matplotlib.legend.Legend at 0x24664572c70>"
      ]
     },
     "execution_count": 17,
     "metadata": {},
     "output_type": "execute_result"
    },
    {
     "data": {
      "image/png": "[encoded data removed]",
      "text/plain": [
       "<Figure size 432x288 with 1 Axes>"
      ]
     },
     "metadata": {
      "needs_background": "light"
     },
     "output_type": "display_data"
    }
   ],
   "source": [
    "#Implement Part D:\n",
    "\n",
    "dfm = pd.read_csv(\"train2_modified.csv\") \n",
    "dfm_class0 = dfm[dfm['y']==0]\n",
    "dfm_class0 = dfm_class0[['x1','x2']]\n",
    "\n",
    "dfm_class1 = dfm[dfm['y']==1]\n",
    "dfm_class1 = dfm_class1[['x1','x2']]\n",
    "\n",
    "dfm_ftrx1_c0 = dfm_class0['x1']\n",
    "dfm_ftrx2_c0 = dfm_class0['x2']\n",
    "\n",
    "dfm_ftrx1_c1 = dfm_class1['x1']\n",
    "dfm_ftrx2_c1 = dfm_class1['x2']\n",
    "\n",
    "plt.scatter(dfm_ftrx1_c0, dfm_ftrx2_c0,c ='blue', s = 10 , label = 'class-0')\n",
    "plt.scatter(dfm_ftrx1_c1,dfm_ftrx2_c1,c ='red', s = 10 , label = 'class-1')\n",
    "plt.legend(loc = \"upper left\")\n"
   ]
  },
  {
   "cell_type": "markdown",
   "metadata": {},
   "source": [
    "# There are many outliers on modified database."
   ]
  },
  {
   "cell_type": "code",
   "execution_count": 18,
   "metadata": {},
   "outputs": [
    {
     "name": "stdout",
     "output_type": "stream",
     "text": [
      "Test Set 3 Error:  27.0 %.\n"
     ]
    }
   ],
   "source": [
    "cov_mtrx_df0_class0 = covariance_matrix_calculator(dfm_class0)\n",
    "cov_mtrx_df0_class1 = covariance_matrix_calculator(dfm_class1)\n",
    "\n",
    "cov_mtrx_df0_class0 = cov_mtrx_df0_class0.round(8)\n",
    "cov_mtrx_df0_class1 = cov_mtrx_df0_class1.round(8)\n",
    "\n",
    "mean_df_c0 = np.mean(df1_class0, axis = 0)\n",
    "mean_df_c1 = np.mean(df1_class1, axis = 0)\n",
    "\n",
    "prior_prob_df_c0 = priorprobability(0,dfm)\n",
    "prior_prob_df_c1 = priorprobability(1,dfm)\n",
    "    \n",
    "a0 , b0 , a1 , b1, isgeneral, c0 , c1= trainBayes(mean_df_c0 , mean_df_c1,\n",
    "                                              cov_mtrx_df0_class0 , cov_mtrx_df0_class1,\n",
    "                                              prior_prob_df_c0,prior_prob_df_c1)\n",
    "\n",
    "print(\"Test Set 3 Error: \", calculateError(testSet1, isgeneral, a0, b0,\n",
    "                                           a1, b1, c0,c1), \"%.\")"
   ]
  },
  {
   "cell_type": "markdown",
   "metadata": {},
   "source": [
    "# Bayes classifier performs poorly on databases that have many outliers. "
   ]
  }
 ],
 "metadata": {
  "kernelspec": {
   "display_name": "Python 3",
   "language": "python",
   "name": "python3"
  },
  "language_info": {
   "codemirror_mode": {
    "name": "ipython",
    "version": 3
   },
   "file_extension": ".py",
   "mimetype": "text/x-python",
   "name": "python",
   "nbconvert_exporter": "python",
   "pygments_lexer": "ipython3",
   "version": "3.8.5"
  }
 },
 "nbformat": 4,
 "nbformat_minor": 4
}
